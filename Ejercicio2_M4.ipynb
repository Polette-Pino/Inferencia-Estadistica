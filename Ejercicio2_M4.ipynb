{
 "cells": [
  {
   "cell_type": "code",
   "execution_count": 1,
   "metadata": {},
   "outputs": [],
   "source": [
    "# importar librerias\n",
    "\n",
    "import matplotlib.pyplot as plt\n",
    "import pandas as pd\n",
    "import numpy as np\n",
    "\n",
    "#modulo estadistica\n",
    "from scipy.stats import norm    \n",
    "from scipy.stats import binom"
   ]
  },
  {
   "cell_type": "code",
   "execution_count": 10,
   "metadata": {},
   "outputs": [
    {
     "name": "stdout",
     "output_type": "stream",
     "text": [
      "La probabilidad es: 0.9973002039367398\n"
     ]
    }
   ],
   "source": [
    "# Caso 1: variable Aleatoria en Distribución normal\n",
    "# si X es una variable aleatoria con distribución N(mu, sigma), hallar: P(mu - 3sigma <= X <= mu + 3sigma)\n",
    "\n",
    "prob = norm.sf(-3) - norm.sf(3)\n",
    "\n",
    "print(\"La probabilidad es:\", prob)"
   ]
  },
  {
   "cell_type": "code",
   "execution_count": 11,
   "metadata": {},
   "outputs": [
    {
     "name": "stdout",
     "output_type": "stream",
     "text": [
      "El valor de \"a\" es de: 1.659783463783759\n"
     ]
    }
   ],
   "source": [
    "# Caso 2: Distribución normal, media y desviación típica\n",
    "# En una distribución normal de media 4 y desviación típica 2, calcular el valor de \"a\" para que: P(4 - a <= X <= 4 + a) = 0.5934\n",
    "\n",
    "media = 4\n",
    "desv_est = 2\n",
    "prob = 0.5934  # Probabilidad del intervalo\n",
    "\n",
    "# Valor de \"a\" para el intervalo (4 - a, 4 + a)\n",
    "a = norm.ppf((1 + prob) / 2, loc=media, scale=desv_est) - media  \n",
    "\n",
    "print('El valor de \"a\" es de:', a)\n"
   ]
  },
  {
   "cell_type": "code",
   "execution_count": 12,
   "metadata": {},
   "outputs": [
    {
     "name": "stdout",
     "output_type": "stream",
     "text": [
      "     z-score  probability\n",
      "0       0.00     0.500000\n",
      "1       0.01     0.503989\n",
      "2       0.02     0.507978\n",
      "3       0.03     0.511966\n",
      "4       0.04     0.515953\n",
      "..       ...          ...\n",
      "296     2.96     0.998462\n",
      "297     2.97     0.998511\n",
      "298     2.98     0.998559\n",
      "299     2.99     0.998605\n",
      "300     3.00     0.998650\n",
      "\n",
      "[301 rows x 2 columns]\n"
     ]
    }
   ],
   "source": [
    "# Caso 3: Distribución Normal\n",
    "\n",
    "# generar tabla normal\n",
    "start = 0 \n",
    "end = 3  \n",
    "step = 0.01  \n",
    "\n",
    "z_scores = np.arange(start, end + step, step) \n",
    "\n",
    "# cumulative distribution function\n",
    "probabilities = norm.cdf(z_scores)\n",
    "\n",
    "df = pd.DataFrame({\"z-score\": z_scores, \"probability\": probabilities})\n",
    "print(df)"
   ]
  },
  {
   "cell_type": "code",
   "execution_count": 4,
   "metadata": {},
   "outputs": [
    {
     "name": "stdout",
     "output_type": "stream",
     "text": [
      "[0.39435023]\n",
      "[0.10564977]\n",
      "[0.10564977]\n",
      "[0.40824086]\n",
      "[0.09175914]\n",
      "[0.40824086]\n"
     ]
    }
   ],
   "source": [
    "# Dada una variable aleatoria continua Z, con distribución normal estándar, es decir, N(0;1), \n",
    "# encuentre las siguientes probabilidades, usando la tabla. \n",
    "\n",
    "# a) P(0 ≤ Z ≤ 1,25) = \n",
    "print(df[df[\"z-score\"]==1.25][\"probability\"].values - df[df[\"z-score\"]==0][\"probability\"].values)\n",
    "\n",
    "# b) P(Z ≥ 1,25) =\n",
    "print(1 - df[df[\"z-score\"]==1.25][\"probability\"].values) \n",
    "\n",
    "# c) P(Z ≤ −1,25) = \n",
    "print(1 - df[df[\"z-score\"]==1.25][\"probability\"].values) \n",
    "\n",
    "# d) P(0 ≤ Z ≤ 1,33) =\n",
    "print(df[df[\"z-score\"]==1.33][\"probability\"].values - df[df[\"z-score\"]==0][\"probability\"].values)\n",
    "\n",
    "# e) P(Z ≥ 1,33) =\n",
    "print(1 - df[df[\"z-score\"]==1.33][\"probability\"].values) \n",
    "\n",
    "# f) P(−1,33 ≤ Z ≤ 0) =\n",
    "print(df[df[\"z-score\"]==1.33][\"probability\"].values - df[df[\"z-score\"]==0][\"probability\"].values) \n",
    "\n",
    "\n"
   ]
  },
  {
   "cell_type": "code",
   "execution_count": 14,
   "metadata": {},
   "outputs": [
    {
     "name": "stdout",
     "output_type": "stream",
     "text": [
      "a) P(0 ≤ Z ≤ 1,25) = 0.39435022633314465\n",
      "b) P(Z ≥ 1,25) = 0.10564977366685535\n",
      "c) P(Z ≤ −1,25) = 0.10564977366685535\n",
      "d) P(0 ≤ Z ≤ 1,33) = 0.4082408643497193\n",
      "e) P(Z ≥ 1,33) = 0.09175913565028071\n",
      "f) P(−1,33 ≤ Z ≤ 0) = 0.40824086434971923\n"
     ]
    }
   ],
   "source": [
    "# Segunda alternativa de solucion usando la libreria norm\n",
    "# norm.cdf()  Devuelve la probabilidad acumulada para cada valor de X\n",
    "\n",
    "P = norm.cdf(1.25) - norm.cdf(0) \n",
    "print(\"a) P(0 ≤ Z ≤ 1,25) =\",P)\n",
    "\n",
    "P = 1 - norm.cdf(1.25)\n",
    "print(\"b) P(Z ≥ 1,25) =\",P)\n",
    "\n",
    "P = norm.cdf(-1.25)\n",
    "print(\"c) P(Z ≤ −1,25) =\",P)\n",
    "\n",
    "P = norm.cdf(1.33) - norm.cdf(0)\n",
    "print(\"d) P(0 ≤ Z ≤ 1,33) =\",P)\n",
    "\n",
    "P = 1 - norm.cdf(1.33)\n",
    "print(\"e) P(Z ≥ 1,33) =\",P)\n",
    "\n",
    "P = norm.cdf(0) - norm.cdf(-1.33)\n",
    "print(\"f) P(−1,33 ≤ Z ≤ 0) =\",P)"
   ]
  },
  {
   "cell_type": "code",
   "execution_count": 15,
   "metadata": {},
   "outputs": [
    {
     "name": "stdout",
     "output_type": "stream",
     "text": [
      "La probabilidad de obtener seis aciertos es de: 0.2255859375000002\n"
     ]
    }
   ],
   "source": [
    "# Caso 4: Distribución Binomial.\n",
    "# Uno de los ítems de una prueba sorpresa consta de 12 preguntas de verdadero o falso. \n",
    "# Suponiendo que los estudiantes no saben contestar a ninguna de ellas y, contestan al \n",
    "# azar, hallar la probabilidad de obtener seis aciertos.\n",
    "\n",
    "# datos\n",
    "n = 12 # numero de preguntas\n",
    "p = 0.5 # probabilidad de acertar\n",
    "k = 6  # numero de aciertos\n",
    "\n",
    "# Probabilidad de obtener k aciertos en n intentos con probabilidad p\n",
    "probabilidad = binom.pmf(k, n, p) \n",
    "\n",
    "# imprimir resultado\n",
    "print(\"La probabilidad de obtener seis aciertos es de:\", probabilidad)\n"
   ]
  }
 ],
 "metadata": {
  "kernelspec": {
   "display_name": "base",
   "language": "python",
   "name": "python3"
  },
  "language_info": {
   "codemirror_mode": {
    "name": "ipython",
    "version": 3
   },
   "file_extension": ".py",
   "mimetype": "text/x-python",
   "name": "python",
   "nbconvert_exporter": "python",
   "pygments_lexer": "ipython3",
   "version": "3.10.9"
  },
  "orig_nbformat": 4
 },
 "nbformat": 4,
 "nbformat_minor": 2
}
