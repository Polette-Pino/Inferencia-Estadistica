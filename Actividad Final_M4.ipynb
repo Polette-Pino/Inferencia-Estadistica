{
 "cells": [
  {
   "cell_type": "code",
   "execution_count": 1,
   "metadata": {},
   "outputs": [],
   "source": [
    "# importar librerias\n",
    "\n",
    "import pandas as pd\n",
    "import numpy as np\n",
    "from scipy import stats # libreria de estadistica "
   ]
  },
  {
   "cell_type": "code",
   "execution_count": 2,
   "metadata": {},
   "outputs": [
    {
     "name": "stdout",
     "output_type": "stream",
     "text": [
      "El total de vuelos anuales es de:  5840\n",
      "La cantidad de pasajeros que llegan al país en vuelos internacionales en un año es de:  700800\n"
     ]
    }
   ],
   "source": [
    "# CASO 1:\n",
    "# Cierta compañía aérea ha requerido de sus servicios profesionales para llevar a \n",
    "# cabo un estudio relacionado con la cantidad de pasajeros que llegan al país en \n",
    "# vuelos internacionales, dicho estudio tiene relación con la enfermedad de COVID-19. \n",
    "# De acuerdo a la información que maneja la compañía, la cantidad de pasajeros \n",
    "# que llegan en vuelos internacionales se comporta aproximadamente normal con \n",
    "# una media de 120 pasajeros y una varianza de 25.\n",
    "\n",
    "\n",
    "# a) Asumiendo que cada día llegan a Santiago 16 vuelos internacionales, \n",
    "# determine la probabilidad de que durante el año (52 semanas) la cantidad \n",
    "# total de pasajeros sea de al menos de 699500.\n",
    "\n",
    "# datos\n",
    "vuelos_diarios = 16\n",
    "media = 120\n",
    "varianza = 25\n",
    "desviacion_estandar = 5\n",
    "dias = 365\n",
    "pasajeros_anual_estimado = 699500\n",
    "\n",
    "# calcular total de vuelos anuales\n",
    "total_vuelos = vuelos_diarios * dias\n",
    "print('El total de vuelos anuales es de: ', total_vuelos)\n",
    "\n",
    "# calcular la cantidad de pasajeros que llegan al país en vuelos internacionales en un año\n",
    "pasajeros_anual = total_vuelos * media\n",
    "print('La cantidad de pasajeros que llegan al país en vuelos internacionales en un año es de: ', pasajeros_anual)\n",
    "\n"
   ]
  },
  {
   "cell_type": "code",
   "execution_count": 5,
   "metadata": {},
   "outputs": [
    {
     "name": "stdout",
     "output_type": "stream",
     "text": [
      "La desviacion estandar anual es de:  382.099463490856\n",
      "La media anual es de:  700800\n"
     ]
    }
   ],
   "source": [
    "# calcular desviacion estandar anual\n",
    "\n",
    "desviacion_estandar_anual = np.sqrt(total_vuelos * varianza)\n",
    "print('La desviacion estandar anual es de: ', desviacion_estandar_anual)\n",
    "\n",
    "# calcular media anual\n",
    "media_anual = total_vuelos * media\n",
    "print('La media anual es de: ', media_anual)"
   ]
  },
  {
   "cell_type": "code",
   "execution_count": 8,
   "metadata": {},
   "outputs": [
    {
     "name": "stdout",
     "output_type": "stream",
     "text": [
      "La probabilidad de que durante el año la cantidad total de pasajeros sea de al menos de 699500 es de:  0.9997\n"
     ]
    }
   ],
   "source": [
    "# calcular probabilidad de que la cantidad total de pasajeros sea de al menos de 699500\n",
    "probabilidad = 1 - stats.norm.cdf(pasajeros_anual_estimado, media_anual, desviacion_estandar_anual)\n",
    "\n",
    "print('La probabilidad de que durante el año la cantidad total de pasajeros sea de al menos de 699500 es de: ', round(probabilidad,4))"
   ]
  },
  {
   "cell_type": "code",
   "execution_count": 25,
   "metadata": {},
   "outputs": [
    {
     "name": "stdout",
     "output_type": "stream",
     "text": [
      "La probabilidad que menos de un 5% sean niños es de:  0.066\n"
     ]
    }
   ],
   "source": [
    "# b) De acuerdo con registros históricos se sabe que aproximadamente un 7% de los pasajeros son niños. \n",
    "# Considerando un potencial de 400 pasajeros que llegarían en los próximos días, determine la probabilidad que menos de un 5% sean niños.\n",
    "\n",
    "# p = probabilidad de exito\n",
    "# n = numero de ensayos\n",
    "# k = numero de exitos\n",
    "\n",
    "# datos\n",
    "p = 0.07\n",
    "n = 400\n",
    "k = 0.05 * n\n",
    "\n",
    "# calcular probabilidad que menos de un 5% sean niños\n",
    "probabilidad = stats.binom.cdf(k, n, p)\n",
    "\n",
    "# imprimir resultado con 3 decimales\n",
    "print('La probabilidad que menos de un 5% sean niños es de: ', round(probabilidad, 3))\n",
    "\n"
   ]
  },
  {
   "cell_type": "code",
   "execution_count": 10,
   "metadata": {},
   "outputs": [
    {
     "name": "stdout",
     "output_type": "stream",
     "text": [
      "La media de encuestas es de:  56.42857142857143\n",
      "La desviacion estandar de encuestas es de:  3.7361990944634345\n",
      "La cantidad de encuestas es de:  14\n",
      "El valor t es de:  3.4335803011158106\n"
     ]
    }
   ],
   "source": [
    "# CASO 2:\n",
    "# Una empresa que se dedica a hacer en cuestas se queja de que un agente \n",
    "# realiza en promedio 53 encuestas por semana. Se ha introducido una forma más \n",
    "# moderna de realizar las encuestas y la empresa quiere evaluar su efectividad. Los \n",
    "# números de encuestas realizadas en una semana por una muestra aleatoria de \n",
    "# agentes son: 53 57 50 55 58 54 60 52 59 62 60 60 51 59\n",
    "# En el nivel de significancia 0,05, puede concluirse que la cantidad media de \n",
    "# entrevistas realizadas por los agentes es superior a 53 por semana? Evalúe el valor p.\n",
    "\n",
    "\n",
    "# datos\n",
    "media = 53\n",
    "nivel_significancia = 0.05\n",
    "\n",
    "# encuestas realizadas en una semana por una muestra aleatoria de agentes\n",
    "encuestas = [53, 57, 50, 55, 58, 54, 60, 52, 59, 62, 60, 60, 51, 59]\n",
    "\n",
    "# calcular media de encuestas\n",
    "media_encuestas = np.mean(encuestas)\n",
    "print('La media de encuestas es de: ', media_encuestas)\n",
    "\n",
    "# calcular desviacion estandar de encuestas\n",
    "desviacion_estandar_encuestas = np.std(encuestas)\n",
    "print('La desviacion estandar de encuestas es de: ', desviacion_estandar_encuestas)\n",
    "\n",
    "# calcular cantidad de encuestas\n",
    "cantidad_encuestas = len(encuestas)\n",
    "print('La cantidad de encuestas es de: ', cantidad_encuestas)\n",
    "\n",
    "# calcular valor t\n",
    "valor_t = (media_encuestas - media) / (desviacion_estandar_encuestas / np.sqrt(cantidad_encuestas))\n",
    "print('El valor t es de: ', valor_t)\n",
    "\n",
    "\n"
   ]
  },
  {
   "cell_type": "code",
   "execution_count": 11,
   "metadata": {},
   "outputs": [
    {
     "name": "stdout",
     "output_type": "stream",
     "text": [
      "El valor p es de:  0.002223046705219782\n",
      "Se rechaza la hipotesis nula\n"
     ]
    }
   ],
   "source": [
    "# calcular valor p\n",
    "valor_p = stats.t.sf(np.abs(valor_t), cantidad_encuestas-1)\n",
    "print('El valor p es de: ', valor_p)\n",
    "\n",
    "# evaluar si la cantidad media de entrevistas realizadas por los agentes es superior a 53 por semana\n",
    "if valor_p < nivel_significancia:\n",
    "    print('Se rechaza la hipotesis nula')\n",
    "else:\n",
    "    print('No se rechaza la hipotesis nula')"
   ]
  },
  {
   "cell_type": "code",
   "execution_count": null,
   "metadata": {},
   "outputs": [],
   "source": [
    "# Por lo tanto, se concluye que la cantidad media de entrevistas realizadas por los agentes es superior a 53 por semana"
   ]
  },
  {
   "cell_type": "code",
   "execution_count": null,
   "metadata": {},
   "outputs": [],
   "source": [
    "# Que es Inferencia estadística:\n",
    "# Inferencia estadística es el proceso de deducir propiedades de una población a partir de una muestra.\n",
    "\n",
    "# Que es Test de Hipótesis:\n",
    "# Un test de hipótesis es un procedimiento estadístico que permite tomar una decisión entre dos hipótesis,\n",
    "# la hipótesis nula (H0) y la hipótesis alternativa (H1).\n",
    "\n",
    "# Que es valor-p:\n",
    "# El valor p es la probabilidad de obtener un resultado igual o más extremo que el que se ha observado,\n",
    "# suponiendo que la hipótesis nula es cierta.\n"
   ]
  }
 ],
 "metadata": {
  "kernelspec": {
   "display_name": "base",
   "language": "python",
   "name": "python3"
  },
  "language_info": {
   "codemirror_mode": {
    "name": "ipython",
    "version": 3
   },
   "file_extension": ".py",
   "mimetype": "text/x-python",
   "name": "python",
   "nbconvert_exporter": "python",
   "pygments_lexer": "ipython3",
   "version": "3.10.9"
  },
  "orig_nbformat": 4
 },
 "nbformat": 4,
 "nbformat_minor": 2
}
