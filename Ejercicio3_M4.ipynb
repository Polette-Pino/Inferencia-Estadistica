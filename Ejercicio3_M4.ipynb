{
 "cells": [
  {
   "cell_type": "code",
   "execution_count": 38,
   "metadata": {},
   "outputs": [],
   "source": [
    "import pandas as pd\n",
    "import numpy as np\n",
    "from scipy import stats\n",
    "from scipy.stats import norm    "
   ]
  },
  {
   "cell_type": "code",
   "execution_count": 39,
   "metadata": {},
   "outputs": [
    {
     "name": "stdout",
     "output_type": "stream",
     "text": [
      "Tamaño de la muestra total:  1230.0\n"
     ]
    },
    {
     "data": {
      "text/html": [
       "<div>\n",
       "<style scoped>\n",
       "    .dataframe tbody tr th:only-of-type {\n",
       "        vertical-align: middle;\n",
       "    }\n",
       "\n",
       "    .dataframe tbody tr th {\n",
       "        vertical-align: top;\n",
       "    }\n",
       "\n",
       "    .dataframe thead th {\n",
       "        text-align: right;\n",
       "    }\n",
       "</style>\n",
       "<table border=\"1\" class=\"dataframe\">\n",
       "  <thead>\n",
       "    <tr style=\"text-align: right;\">\n",
       "      <th></th>\n",
       "      <th>Poblacion</th>\n",
       "      <th>Muestra</th>\n",
       "    </tr>\n",
       "  </thead>\n",
       "  <tbody>\n",
       "    <tr>\n",
       "      <th>0</th>\n",
       "      <td>7500</td>\n",
       "      <td>375.0</td>\n",
       "    </tr>\n",
       "    <tr>\n",
       "      <th>1</th>\n",
       "      <td>8400</td>\n",
       "      <td>420.0</td>\n",
       "    </tr>\n",
       "    <tr>\n",
       "      <th>2</th>\n",
       "      <td>5700</td>\n",
       "      <td>285.0</td>\n",
       "    </tr>\n",
       "    <tr>\n",
       "      <th>3</th>\n",
       "      <td>3000</td>\n",
       "      <td>150.0</td>\n",
       "    </tr>\n",
       "  </tbody>\n",
       "</table>\n",
       "</div>"
      ],
      "text/plain": [
       "   Poblacion  Muestra\n",
       "0       7500    375.0\n",
       "1       8400    420.0\n",
       "2       5700    285.0\n",
       "3       3000    150.0"
      ]
     },
     "execution_count": 39,
     "metadata": {},
     "output_type": "execute_result"
    }
   ],
   "source": [
    "# CASO 1: Muestreo estratificado con afijación proporcional\n",
    "# Se desea tomar una muestra aleatoria estratificada de las personas mayores \n",
    "# de edad de un municipio, cuyos estratos son los siguientes intervalos de \n",
    "# edades, en años: de 18 a 30, de 31 a 45, de 46 a 60 y mayores de 60. En el \n",
    "# primer intervalo hay 7500 personas, en el segundo hay 8400, en el tercero \n",
    "# 5700 y en el cuarto 3000. \n",
    "# Calcule el tamaño de la muestra total y su composición, sabiendo que el \n",
    "# muestreo se hace con afijación proporcional y se han elegido al azar 375 \n",
    "# personas del primer estrato.\n",
    "\n",
    "# crear un dataframe con los datos de la población\n",
    "df_poblacion = pd.DataFrame({'Poblacion': [7500, 8400, 5700, 3000]})\n",
    "\n",
    "# tamaño de la primera muestra\n",
    "muestra_1 = 375\n",
    "\n",
    "# calcular la proporción de la muestra en el primer estrato\n",
    "proporcion_muestra_1 = muestra_1 / df_poblacion.iloc[0, 0]\n",
    "\n",
    "# calcular las muestras en los otros estratos\n",
    "muestras = df_poblacion['Poblacion'] * proporcion_muestra_1\n",
    "\n",
    "# imprimitr el tamaño de la muestra total\n",
    "print('Tamaño de la muestra total: ', df_muestras['Muestra'].sum())\n",
    "\n",
    "# unir los datos e imprimir como dataframe\n",
    "df_muestras = pd.concat([df_poblacion, muestras], axis=1)\n",
    "df_muestras.columns = ['Poblacion', 'Muestra']\n",
    "df_muestras\n"
   ]
  },
  {
   "cell_type": "code",
   "execution_count": 43,
   "metadata": {},
   "outputs": [
    {
     "name": "stdout",
     "output_type": "stream",
     "text": [
      "La probabilidad es de: 0.00010\n"
     ]
    }
   ],
   "source": [
    "# CASO 2\n",
    "# Si el contenido en gr. de un determinado medicamento X sigue una \n",
    "# distribución N(7.5,0.3), calcular la probabilidad de que para una muestra de \n",
    "# tamaño n=5, se obtenga medio menor que 7, Pr ( X ≤ 7).\n",
    "\n",
    "# datos\n",
    "mu = 7.5\n",
    "sigma = 0.3\n",
    "n = 5\n",
    "X = 7\n",
    "\n",
    "# calcular probabilidad con distribución normal\n",
    "p = norm.cdf(X, mu, sigma / np.sqrt(n))   # cdf: cumulative distribution function, np.sqrt: raiz cuadrada\n",
    "\n",
    "# imprimir con 5 decimales\n",
    "print('La probabilidad es de: {:.5f}'.format(p))"
   ]
  }
 ],
 "metadata": {
  "kernelspec": {
   "display_name": "base",
   "language": "python",
   "name": "python3"
  },
  "language_info": {
   "codemirror_mode": {
    "name": "ipython",
    "version": 3
   },
   "file_extension": ".py",
   "mimetype": "text/x-python",
   "name": "python",
   "nbconvert_exporter": "python",
   "pygments_lexer": "ipython3",
   "version": "3.10.9"
  },
  "orig_nbformat": 4
 },
 "nbformat": 4,
 "nbformat_minor": 2
}
