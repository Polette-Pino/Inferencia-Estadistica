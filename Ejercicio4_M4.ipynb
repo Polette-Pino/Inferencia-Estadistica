{
 "cells": [
  {
   "cell_type": "code",
   "execution_count": 1,
   "metadata": {},
   "outputs": [],
   "source": [
    "import pandas as pd\n",
    "import numpy as np\n",
    "from scipy.stats import norm"
   ]
  },
  {
   "cell_type": "code",
   "execution_count": 12,
   "metadata": {},
   "outputs": [
    {
     "name": "stdout",
     "output_type": "stream",
     "text": [
      "El valor mínimo de n es: 2401.0\n"
     ]
    }
   ],
   "source": [
    "# Caso 1\n",
    "# Para estimar la proporción de habitantes de una ciudad que poseen ordenador \n",
    "# personal se toma una muestra de tamaño n. Calcula el valor mínimo de n para \n",
    "# garantizar, con un nivel de confianza del 95 %, que el error de estimación no \n",
    "# supera el 2 %. (Como se desconoce la proporción, se hará a partir del caso más \n",
    "# desfavorable, que será 0,5).\n",
    "\n",
    "\n",
    "# Fórmula\n",
    "# n = (z^2 * p * (1-p)) / e^2\n",
    "\n",
    "# Datos\n",
    "p = 0.5\n",
    "e = 0.02\n",
    "Z = 1.96\n",
    "\n",
    "# Cálculo\n",
    "n = (Z**2 * p * (1-p)) / (e**2) \n",
    "n = np.round(n)\n",
    "print('El valor mínimo de n es:', n) # round() redondea el número\n"
   ]
  },
  {
   "cell_type": "code",
   "execution_count": 20,
   "metadata": {},
   "outputs": [
    {
     "name": "stdout",
     "output_type": "stream",
     "text": [
      "El mínimo tamaño muestral es: 8.0\n"
     ]
    }
   ],
   "source": [
    "# Caso 2\n",
    "# Un fabricante de electrodomésticos sabe que la vida media de estos sigue una \n",
    "# distribución normal con media 100 meses y desviación típica 12 meses. \n",
    "# Determina el mínimo tamaño muestral que garantiza, con una probabilidad \n",
    "# de 0,98, que la vida media de los electrodomésticos en dicha muestra se \n",
    "# encuentre entre 90 y 100 meses.\n",
    "\n",
    "# Fórmula\n",
    "# n = (z^2 * sigma^2) / e^2\n",
    "\n",
    "# Datos\n",
    "mu = 100\n",
    "sigma = 12\n",
    "Z = 2.33\n",
    "e = 10\n",
    "\n",
    "# Cálculo\n",
    "n = (Z**2 * sigma**2) / (e**2)\n",
    "n = np.round(n)\n",
    "print('El mínimo tamaño muestral es:', n)\n"
   ]
  },
  {
   "cell_type": "code",
   "execution_count": 37,
   "metadata": {},
   "outputs": [
    {
     "name": "stdout",
     "output_type": "stream",
     "text": [
      "nivel de confianza: 98.76%\n"
     ]
    }
   ],
   "source": [
    "# Caso 3\n",
    "# Se desea obtener la media de una variable aleatoria que se distribuye \n",
    "# normalmente con una desviación típica de 3,2. Para ello se toma una muestra \n",
    "# de 64 individuos obteniéndose una media de 32,5.\n",
    "\n",
    "# a) ¿Con qué nivel de confianza se puede afirmar que la media de la \n",
    "# población está entre 31,5 y 33,5?\n",
    "\n",
    "\n",
    "# Datos\n",
    "mu = 32.5\n",
    "sigma = 3.2\n",
    "n = 64\n",
    "mu_0 = 32.5\n",
    "mu_1 = 31.5\n",
    "mu_2 = 33.5\n",
    "\n",
    "# calculkar z_alpha/2\n",
    "z_alpha_2 = (mu_0 - mu_1) / (sigma / np.sqrt(n))\n",
    "\n",
    "# calcular probabilidad\n",
    "nivel_confianza = norm.cdf(z_alpha_2) - norm.cdf(-1*z_alpha_2)\n",
    "print(f'nivel de confianza: {nivel_confianza*100:.2f}%')\n"
   ]
  },
  {
   "cell_type": "code",
   "execution_count": 31,
   "metadata": {},
   "outputs": [
    {
     "name": "stdout",
     "output_type": "stream",
     "text": [
      "El mínimo tamaño muestral es: 107.0\n"
     ]
    }
   ],
   "source": [
    "# b) Si la desviación típica de la población fuera 3, ¿qué tamaño mínimo \n",
    "# debería tener la muestra con la cual estimamos la media poblacional si \n",
    "# queremos que el nivel de confianza sea del 99 %, y el error admisible no \n",
    "# supere el valor de 0,75?\n",
    "\n",
    "# Datos\n",
    "sigma = 3\n",
    "Z = 2.58\n",
    "e = 0.75\n",
    "\n",
    "# Cálculo\n",
    "n = (Z**2 * sigma**2) / (e**2)\n",
    "n = np.round(n)\n",
    "print('El mínimo tamaño muestral es:', n)\n"
   ]
  }
 ],
 "metadata": {
  "kernelspec": {
   "display_name": "base",
   "language": "python",
   "name": "python3"
  },
  "language_info": {
   "codemirror_mode": {
    "name": "ipython",
    "version": 3
   },
   "file_extension": ".py",
   "mimetype": "text/x-python",
   "name": "python",
   "nbconvert_exporter": "python",
   "pygments_lexer": "ipython3",
   "version": "3.10.9"
  },
  "orig_nbformat": 4
 },
 "nbformat": 4,
 "nbformat_minor": 2
}
