{
 "cells": [
  {
   "cell_type": "code",
   "execution_count": 3,
   "metadata": {},
   "outputs": [],
   "source": [
    "import pandas as pd\n",
    "import numpy as np\n",
    "from scipy import stats\n"
   ]
  },
  {
   "attachments": {},
   "cell_type": "markdown",
   "metadata": {},
   "source": [
    "Caso 1\n",
    "Se sabe que la media del consumo de energía eléctrica en cierta provincia es \n",
    "de 721 kwh.\n",
    "\n",
    "Una empresa tecnológica de la región cree que sus empleados consumen más \n",
    "que el promedio provincial. Recoge información sobre los consumos de 20 \n",
    "empleados escogidos al azar, y obtiene los siguientes datos:\n",
    "\n",
    "710 774 814 768 823\n",
    "732 675 755 770 660\n",
    "654 757 736 677 797\n",
    "760 718 774 747 796\n",
    "\n",
    "Si la distribución del consumo mensual de energía eléctrica es normal:"
   ]
  },
  {
   "cell_type": "code",
   "execution_count": 5,
   "metadata": {},
   "outputs": [
    {
     "name": "stdout",
     "output_type": "stream",
     "text": [
      "Se rechaza la hipótesis nula\n",
      "el valor de p es: 0.02225\n"
     ]
    }
   ],
   "source": [
    "# a) ¿Hay evidencias para afirmar que el promedio del consumo de energía \n",
    "# eléctrica hogareño de los empleados de la empresa es superior a la media \n",
    "# del consumo a nivel provincial? Usar un nivel de significación del 10%.\n",
    "\n",
    "\n",
    "# valor de hipótesis nula\n",
    "\n",
    "# media del consumo a nivel provincial\n",
    "null_value = 721 \n",
    "\n",
    "# tamaño de la muestra\n",
    "n = 20 \n",
    "\n",
    "# muestra\n",
    "sample = np.array(\n",
    "    [710, 774, 814, 768, 823, 732, 675, 755, 770, 660, \n",
    "    654, 757, 736, 677, 797, 760, 718, 774, 747, 796]) \n",
    "\n",
    "# nivel de significancia\n",
    "alpha = 0.1\n",
    "\n",
    "\n",
    "# one-sample t-test\n",
    "_, p_value = stats.ttest_1samp(sample, null_value, alternative='greater') \n",
    "\n",
    "# Comprobar si el valor p es menor que el nivel de significancia\n",
    "if p_value < alpha: \n",
    "    print(\"Se rechaza la hipótesis nula\")\n",
    "else:\n",
    "    print(\"No se rechaza la hipótesis nula\")\n",
    "\n",
    "\n",
    "# b) ¿Cuál es el valor p de la decisión?\n",
    "\n",
    "# Print the computed p-value\n",
    "print(f\"el valor de p es: {p_value:.5f}\")\n"
   ]
  },
  {
   "attachments": {},
   "cell_type": "markdown",
   "metadata": {},
   "source": [
    "Interpretación de resultado: \n",
    "Se rechaza hipótesis nula ya que p-value es menor que el nivel de significancia, por lo que se puede demostrar que los empleados consumen más energía eléctrica que la media provincial."
   ]
  },
  {
   "attachments": {},
   "cell_type": "markdown",
   "metadata": {},
   "source": [
    "Respuesta preguntas guias:\n",
    "\n",
    "Pruebas de hipótesis.\n",
    "Es una regla que especifica si se puede aceptar o rechazar una afirmación acerca de una población dependiendo de la \n",
    "evidencia proporcionada por una muestra de datos.\n",
    "\n",
    "\n",
    "Hipótesis nulas y alternativas\n",
    "La hipótesis nula (H0) es el enunciado que se probará. Por lo general, la hipótesis nula es un \n",
    "enunciado de que \"no hay efecto\" o \"no hay diferencia\". \n",
    "La hipótesis alternativa (H1) es el enunciado que se desea poder concluir que es verdadero \n",
    "de acuerdo con la evidencia proporcionada por los datos de la muestra.\n",
    "\n",
    "El valor P\n",
    "El valor p se usa para tomar esa decisión.\n",
    "Si el valor p es menor que el nivel de significancia (denotado como α o alfa), \n",
    "entonces puede rechazar la hipótesis nula.\n"
   ]
  }
 ],
 "metadata": {
  "kernelspec": {
   "display_name": "base",
   "language": "python",
   "name": "python3"
  },
  "language_info": {
   "codemirror_mode": {
    "name": "ipython",
    "version": 3
   },
   "file_extension": ".py",
   "mimetype": "text/x-python",
   "name": "python",
   "nbconvert_exporter": "python",
   "pygments_lexer": "ipython3",
   "version": "3.10.9"
  },
  "orig_nbformat": 4
 },
 "nbformat": 4,
 "nbformat_minor": 2
}
