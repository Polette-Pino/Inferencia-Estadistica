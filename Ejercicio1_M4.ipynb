{
 "cells": [
  {
   "cell_type": "code",
   "execution_count": 1,
   "metadata": {},
   "outputs": [],
   "source": [
    "# importar librerias\n",
    "\n",
    "import random\n",
    "import pandas as pd"
   ]
  },
  {
   "cell_type": "code",
   "execution_count": 2,
   "metadata": {},
   "outputs": [],
   "source": [
    "# CASO 1: Un dado está trucado, de forma que las probabilidades de obtener las distintas caras son proporcionales a los números de estas.\n",
    "\n",
    "# función que simula el lanzamiento de un dado trucado\n",
    "def roll_tricky_dice():\n",
    "    \n",
    "    output = [1, 2, 2, 3, 3, 3, 4, 4, 4, 4, 5, 5, 5, 5, 5, 6, 6, 6, 6, 6, 6] # 21 elementos, dado trucado\n",
    "  \n",
    "    return random.choice(output) # elige un elemento al azar de la lista"
   ]
  },
  {
   "cell_type": "code",
   "execution_count": 3,
   "metadata": {},
   "outputs": [
    {
     "name": "stdout",
     "output_type": "stream",
     "text": [
      "La probabilidad de que salga 6 es 0.2856\n"
     ]
    }
   ],
   "source": [
    "# Hallar: La probabilidad de obtener el 6 en un lanzamiento.\n",
    "\n",
    "# Number deseado\n",
    "numero_deseado = 6\n",
    "\n",
    "num_trials = 1_000_000 # Numero de veces que se tira el dado\n",
    "num_successes = 0  # Numero de sucesos\n",
    "\n",
    "# Tirar el dado y contar el numero de veces que sale el numero deseado\n",
    "\n",
    "for i in range(num_trials):\n",
    "\n",
    "    if roll_tricky_dice() == numero_deseado:\n",
    "\n",
    "        num_successes += 1\n",
    "\n",
    "# Calcular la probabilidad\n",
    "probability = num_successes / num_trials\n",
    "\n",
    "print(f\"La probabilidad de que salga {numero_deseado} es {probability:.4f}\")"
   ]
  },
  {
   "cell_type": "code",
   "execution_count": 4,
   "metadata": {},
   "outputs": [
    {
     "name": "stdout",
     "output_type": "stream",
     "text": [
      "La probabilidad de que salga un numero impar es 0.4286\n"
     ]
    }
   ],
   "source": [
    "# Hallar: La probabilidad de conseguir un número impar en un lanzamiento.\n",
    "\n",
    "# Numero de veces que sale un numero impar, dividido entre el numero de veces que se tira el dado\n",
    "impar = sum([1*i for i in range(1, 7) if i % 2 != 0])/sum([1*i for i in range(1, 7)]) \n",
    "                                    # if i % 2 != 0 se utiliza para seleccionar solo los números impares en el rango del 1 al 6\n",
    "\n",
    "# imprimir resultado con 4 decimales\n",
    "print(f\"La probabilidad de que salga un numero impar es {impar:.4f}\")\n"
   ]
  },
  {
   "cell_type": "code",
   "execution_count": 5,
   "metadata": {},
   "outputs": [
    {
     "name": "stdout",
     "output_type": "stream",
     "text": [
      "La probabilidad que salga 7 es: 0.1666\n"
     ]
    }
   ],
   "source": [
    "# CASO 2: Se lanzan dos dados al aire y se anota la suma de los puntos obtenidos. Se pide:\n",
    "\n",
    "# probabilidad de que salga el 7\n",
    "\n",
    "n_simulaciones = 1_000_000\n",
    "count = 0 \n",
    "\n",
    "# Tirar los dados y contar el numero de veces que sale el numero deseado\n",
    "for i in range(n_simulaciones): \n",
    "    dado_1 = random.randint(1, 6) \n",
    "    dado_2 = random.randint(1, 6)\n",
    "    \n",
    "    if dado_1 + dado_2 == 7: # si la suma de los dados es igual a 7, se suma 1 al contador\n",
    "        count += 1\n",
    "\n",
    "\n",
    "# Calcular la probabilidad\n",
    "probability = count / n_simulaciones \n",
    "\n",
    "# imprimir resultado con 4 decimales\n",
    "print(f\"La probabilidad que salga 7 es: {probability:.4f}\")\n"
   ]
  },
  {
   "cell_type": "code",
   "execution_count": 6,
   "metadata": {},
   "outputs": [
    {
     "name": "stdout",
     "output_type": "stream",
     "text": [
      "La probabilidad que salga un numero par es: 0.50\n"
     ]
    }
   ],
   "source": [
    "#  La probabilidad de que el número obtenido sea par.\n",
    "\n",
    "n_simulations = 100_000\n",
    "count = 0 \n",
    "\n",
    "for i in range(n_simulations):\n",
    "    dice1 = random.randint(1, 6)\n",
    "    dice2 = random.randint(1, 6)\n",
    "    sum = dice1 + dice2 # suma de los dados\n",
    "    \n",
    "    if sum % 2 == 0: # si la suma de los dados es par, se suma 1 al contador\n",
    "        count += 1\n",
    "\n",
    "# Calcular la probabilidad\n",
    "probability = count / n_simulations\n",
    "\n",
    "# imprimir resultado con 2 decimales\n",
    "print(f\"La probabilidad que salga un numero par es: {probability:.2f}\")\n"
   ]
  },
  {
   "cell_type": "code",
   "execution_count": 7,
   "metadata": {},
   "outputs": [
    {
     "name": "stdout",
     "output_type": "stream",
     "text": [
      "La probabilidad que salga un numero multiplo de 3 es: 0.33\n"
     ]
    }
   ],
   "source": [
    "#  La probabilidad de que el número obtenido sea múltiplo de 3\n",
    "\n",
    "n_simulations = 10_000\n",
    "count = 0 \n",
    "\n",
    "for i in range(n_simulations):\n",
    "    dice1 = random.randint(1, 6)\n",
    "    dice2 = random.randint(1, 6)\n",
    "    sum = dice1 + dice2\n",
    "    \n",
    "    if sum % 3 == 0: # si la suma de los dados es multiplo de 3, se suma 1 al contador\n",
    "        count += 1\n",
    "\n",
    "# Calcular la probabilidad\n",
    "probability = count / n_simulations\n",
    "\n",
    "# imprimir resultado con 2 decimales\n",
    "print(f\"La probabilidad que salga un numero multiplo de 3 es: {probability:.2f}\")\n"
   ]
  },
  {
   "cell_type": "code",
   "execution_count": 8,
   "metadata": {},
   "outputs": [
    {
     "name": "stdout",
     "output_type": "stream",
     "text": [
      "La probabilidad de obtener dos caras y una cruz es: 0.3755\n"
     ]
    }
   ],
   "source": [
    "# CASO 3: Se lanzan al aire 3 monedas iguales. \n",
    "# Calcula la probabilidad de que salgan dos caras y una cruz\n",
    "\n",
    "n_simulaciones = 1_000_000  \n",
    "count = 0  \n",
    "\n",
    "for i in range(n_simulaciones):\n",
    "    # lanzar tres monedas\n",
    "    moneda_1 = random.choice(['C', 'X']) # C = cara, X = cruz\n",
    "    moneda_2 = random.choice(['C', 'X'])\n",
    "    moneda_3 = random.choice(['C', 'X']) #random.choice(lista) devuelve un elemento al azar de la lista\n",
    "    \n",
    "    # contar si salen dos caras y una cruz\n",
    "    if [moneda_1, moneda_2, moneda_3].count('C') == 2 and [moneda_1, moneda_2, moneda_3].count('X') == 1:\n",
    "        count += 1\n",
    "\n",
    "# calcular la probabilidad\n",
    "probabilidad = count / n_simulaciones\n",
    "\n",
    "print(f\"La probabilidad de obtener dos caras y una cruz es: {probabilidad:.4f}\")\n"
   ]
  },
  {
   "cell_type": "code",
   "execution_count": 22,
   "metadata": {},
   "outputs": [
    {
     "name": "stdout",
     "output_type": "stream",
     "text": [
      "La probabilidad de que la bola sea blanca y de la primera bolsa es: 0.3000\n"
     ]
    }
   ],
   "source": [
    "# Caso 4 \n",
    "# Una bolsa contiene 2 bolas negras y 3 bolas blancas. Otra bolsa tiene 4 bolas \n",
    "# negras y 2 blancas. Se elige una de las bolsas al azar y se extrae una bola. \n",
    "\n",
    "# definir los contenidos de las bolsas\n",
    "bolsa_1 = ['negra', 'negra', 'blanca', 'blanca', 'blanca']\n",
    "bolsa_2 = ['negra', 'negra', 'negra', 'negra', 'blanca', 'blanca']\n",
    "\n",
    "\n",
    "\n",
    "# Calcular la probabilidad de que la bola es blanca y de la primera bolsa\n",
    "\n",
    "# elegir una bolsa al azar\n",
    "bolsa = random.choice([bolsa_1, bolsa_2])\n",
    "\n",
    "# extraer una bola de la bolsa elegida\n",
    "bola = random.choice(bolsa)\n",
    "\n",
    "# calcular la probabilidad que la bola sea blanca y de la primera bolsa\n",
    "probabilidad = bolsa_1.count('blanca') / len(bolsa_1) / 2\n",
    "\n",
    "print(f\"La probabilidad de que la bola sea blanca y de la primera bolsa es: {probabilidad:.4f}\")\n"
   ]
  },
  {
   "cell_type": "code",
   "execution_count": 39,
   "metadata": {},
   "outputs": [
    {
     "name": "stdout",
     "output_type": "stream",
     "text": [
      "La probabilidad de que la bola extraída sea blanca es: 0.4667\n"
     ]
    }
   ],
   "source": [
    "# Calcular la probabilidad de que la bola sea blanca\n",
    "\n",
    "probabilidad_bolsa_1 = bolsa_1.count('blanca') / len(bolsa_1)\n",
    "probabilidad_bolsa_2 = bolsa_2.count('blanca') / len(bolsa_2)\n",
    "\n",
    "# calcular la probabilidad de que la bola sea blanca\n",
    "probabilidad = (probabilidad_bolsa_1 + probabilidad_bolsa_2) / 2\n",
    "\n",
    "print(f\"La probabilidad de que la bola extraída sea blanca es: {probabilidad:.4f}\")\n"
   ]
  },
  {
   "cell_type": "code",
   "execution_count": 24,
   "metadata": {},
   "outputs": [
    {
     "name": "stdout",
     "output_type": "stream",
     "text": [
      "La probabilidad de que la bola sea negra es: 0.3333\n"
     ]
    }
   ],
   "source": [
    "# Calcular la probabilidad de que la bola sea negra, ¿cuál es la probabilidad de que sea de la segunda bolsa?\n",
    "\n",
    "# calcular la probabilidad de que sea negra y de la segunda bolsa\n",
    "probabilidad = bolsa_2.count('negra') / len(bolsa_2) / 2\n",
    "\n",
    "print(f\"La probabilidad de que la bola sea negra es: {probabilidad:.4f}\")"
   ]
  }
 ],
 "metadata": {
  "kernelspec": {
   "display_name": "base",
   "language": "python",
   "name": "python3"
  },
  "language_info": {
   "codemirror_mode": {
    "name": "ipython",
    "version": 3
   },
   "file_extension": ".py",
   "mimetype": "text/x-python",
   "name": "python",
   "nbconvert_exporter": "python",
   "pygments_lexer": "ipython3",
   "version": "3.10.9"
  },
  "orig_nbformat": 4
 },
 "nbformat": 4,
 "nbformat_minor": 2
}
